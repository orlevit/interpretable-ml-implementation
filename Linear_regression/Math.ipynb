{
 "cells": [
  {
   "cell_type": "markdown",
   "metadata": {},
   "source": [
    "confidence interval - <br>\n",
    "Answer the question: \" What is the avarage y for this x\"?<br>\n",
    "\n",
    "standard error of the mean of Y for a given value of :\n",
    "$SE_{mean} = \\sqrt{1+\\frac{(x - \\bar{x})^2}{\\sigma_x^2}}$ <br>\n",
    "$SE_{forecast} = \\sqrt{\\sigma_x^2+SE^2_{mean}} $\n",
    "\n",
    "prediction inerval -<br>\n",
    "\n",
    "Answer the question: \" What is the predicted y for this x\"?\n",
    "\n",
    "standard error of the mean of Y for a given value of \n",
    "$SE = \\sqrt{n + 1 + \\frac{(x - \\bar{x})^2}{\\sigma_x^2}}$ <br>\n"
   ]
  },
  {
   "cell_type": "markdown",
   "metadata": {},
   "source": [
    "$SE_{mean}= \\sqrt{1+\\frac{x}{x^2}}$"
   ]
  },
  {
   "cell_type": "code",
   "execution_count": null,
   "metadata": {},
   "outputs": [],
   "source": []
  }
 ],
 "metadata": {
  "kernelspec": {
   "display_name": "Python 3",
   "language": "python",
   "name": "python3"
  },
  "language_info": {
   "codemirror_mode": {
    "name": "ipython",
    "version": 3
   },
   "file_extension": ".py",
   "mimetype": "text/x-python",
   "name": "python",
   "nbconvert_exporter": "python",
   "pygments_lexer": "ipython3",
   "version": "3.7.9"
  }
 },
 "nbformat": 4,
 "nbformat_minor": 4
}
