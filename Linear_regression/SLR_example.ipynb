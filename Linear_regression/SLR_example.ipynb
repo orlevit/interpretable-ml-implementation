{
 "cells": [
  {
   "cell_type": "code",
   "execution_count": 11,
   "metadata": {},
   "outputs": [],
   "source": [
    "import scipy as sp\n",
    "import numpy as np\n",
    "import pandas as pd\n",
    "import seaborn as sns\n",
    "import scipy.stats as stats\n",
    "import statsmodels.api as sm\n",
    "from anova import anova_table\n",
    "import matplotlib.pyplot as plt\n",
    "from statsmodels.formula.api import ols"
   ]
  },
  {
   "cell_type": "code",
   "execution_count": 13,
   "metadata": {},
   "outputs": [
    {
     "name": "stdout",
     "output_type": "stream",
     "text": [
      "predict height by hand span\n"
     ]
    }
   ],
   "source": [
    "# Get the data\n",
    "data = pd.read_csv(\"~/dev/interpretable-ml-book/datasets/hand_height/handheight.txt\", sep=\"\\t\")\n",
    "data = data[['Height','HandSpan']]\n",
    "x = np.row_stack([data['HandSpan'].to_numpy().shape[0] * [1], data['HandSpan'].to_numpy()]).T\n",
    "y = data['Height'].to_numpy()\n",
    "N = len(data)"
   ]
  },
  {
   "cell_type": "markdown",
   "metadata": {},
   "source": [
    "# Assumptions"
   ]
  },
  {
   "cell_type": "code",
   "execution_count": 27,
   "metadata": {},
   "outputs": [
    {
     "name": "stdout",
     "output_type": "stream",
     "text": [
      "Linear relationship: is reasonable: The residuals \"bounce randomly\" around the residual = 0 line\n",
      "Equal error variances: \"horizontal band\" around the residual = 0 line.\n",
      "No outliers: No one residual \"stands out\"\n"
     ]
    },
    {
     "data": {
      "image/png": "[encoded data removed]",
      "text/plain": [
       "<Figure size 432x288 with 1 Axes>"
      ]
     },
     "metadata": {
      "needs_background": "light"
     },
     "output_type": "display_data"
    }
   ],
   "source": [
    "slope, intercept, R, p, se = sp.stats.linregress(data['HandSpan'], data['Height'])\n",
    "\n",
    "data['Height_predict'] = slope * data['HandSpan'] + intercept\n",
    "data['Height_residual'] = data['Height'] - data['Height_predict']\n",
    "\n",
    "# bloodpress_df[f'{col}_residual'] = bloodpress_df['BP'] - bloodpress_df[f'{col}_pred']\n",
    "sns.regplot(x=\"HandSpan\", y=\"Height_residual\", data=data)\n",
    "slope, intercept, R, p, se = sp.stats.linregress(data['HandSpan'], data['Height'])\n",
    "adj_R = 1-(1-R**2)*(N-1)/(N-2) \n",
    "\n",
    "# print(f'Weight_Age_residual: R-squared adjusted: {round(adj_R,2)}')\n",
    "print('Linear relationship: is reasonable: The residuals \"bounce randomly\" around the residual = 0 line\\n\\\n",
    "Equal error variances: \"horizontal band\" around the residual = 0 line.\\n\\\n",
    "No outliers: No one residual \"stands out\"')\n"
   ]
  },
  {
   "cell_type": "markdown",
   "metadata": {},
   "source": [
    "# Statistics"
   ]
  },
  {
   "cell_type": "code",
   "execution_count": 15,
   "metadata": {},
   "outputs": [
    {
     "name": "stdout",
     "output_type": "stream",
     "text": [
      "predict height by hand span\n"
     ]
    },
    {
     "data": {
      "image/png": "[encoded data removed]",
      "text/plain": [
       "<Figure size 432x288 with 1 Axes>"
      ]
     },
     "metadata": {
      "needs_background": "light"
     },
     "output_type": "display_data"
    },
    {
     "name": "stdout",
     "output_type": "stream",
     "text": [
      "\n",
      "***********************************************************************************************\n",
      "\n",
      "The model statistics:                             OLS Regression Results                            \n",
      "==============================================================================\n",
      "Dep. Variable:                      y   R-squared:                       0.547\n",
      "Model:                            OLS   Adj. R-squared:                  0.544\n",
      "Method:                 Least Squares   F-statistic:                     199.2\n",
      "Date:                Wed, 21 Jul 2021   Prob (F-statistic):           3.60e-30\n",
      "Time:                        16:00:49   Log-Likelihood:                -404.55\n",
      "No. Observations:                 167   AIC:                             813.1\n",
      "Df Residuals:                     165   BIC:                             819.3\n",
      "Df Model:                           1                                         \n",
      "Covariance Type:            nonrobust                                         \n",
      "==============================================================================\n",
      "                 coef    std err          t      P>|t|      [0.025      0.975]\n",
      "------------------------------------------------------------------------------\n",
      "const         35.5250      2.316     15.339      0.000      30.952      40.098\n",
      "x1             1.5601      0.111     14.113      0.000       1.342       1.778\n",
      "==============================================================================\n",
      "Omnibus:                        0.395   Durbin-Watson:                   1.988\n",
      "Prob(Omnibus):                  0.821   Jarque-Bera (JB):                0.163\n",
      "Skew:                           0.050   Prob(JB):                        0.922\n",
      "Kurtosis:                       3.115   Cond. No.                         229.\n",
      "==============================================================================\n",
      "\n",
      "Notes:\n",
      "[1] Standard Errors assume that the covariance matrix of the errors is correctly specified.\n",
      "\n",
      "***********************************************************************************************\n",
      "\n",
      "\n",
      "                                       ANOVA Table\n",
      "\n",
      "| Source         |   DF | SS           | MS          | F              |   P value |\n",
      "|----------------|------|--------------|-------------|----------------|-----------|\n",
      "| Regression     |    1 | SSR=1500.06  | MSR=1500.06 | MSR/MSE=199.21 |      0    |\n",
      "| Residual Error |  165 | SSE=1242.7   | MSE=7.53    |                |           |\n",
      "| Lack of Fit    |   17 | SSLF=96.24   | MSLF=5.66   | MSLF/MSPE=0.73 |      0.77 |\n",
      "| Pure Error     |  148 | SSPE=1146.46 | MSPE=7.75   |                |           |\n",
      "| Total          |  166 | SST=2742.76  |             |                |           |\n",
      "\n",
      "General rules:\n",
      "*SSR + SSE = SST\n",
      "*SSE = SSLF + SSPE\n",
      "*SSE = SSLF + SSPE\n",
      "*Hypothesis F(MSR/MSE) - slope = 0\n",
      "*Hypothesis F(MSLF/MSPE) - linear != 0\n"
     ]
    }
   ],
   "source": [
    "print('predict height by hand span')\n",
    "anova_table(x, y,plot_graph=True, x_plot_loc=-1)"
   ]
  },
  {
   "cell_type": "code",
   "execution_count": null,
   "metadata": {},
   "outputs": [],
   "source": []
  }
 ],
 "metadata": {
  "kernelspec": {
   "display_name": "Python 3",
   "language": "python",
   "name": "python3"
  },
  "language_info": {
   "codemirror_mode": {
    "name": "ipython",
    "version": 3
   },
   "file_extension": ".py",
   "mimetype": "text/x-python",
   "name": "python",
   "nbconvert_exporter": "python",
   "pygments_lexer": "ipython3",
   "version": "3.7.9"
  }
 },
 "nbformat": 4,
 "nbformat_minor": 4
}
