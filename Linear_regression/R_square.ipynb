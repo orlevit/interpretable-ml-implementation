{
 "cells": [
  {
   "cell_type": "markdown",
   "metadata": {},
   "source": [
    "# $R^2$\n",
    "\n",
    "If we are using a **linear model** than we can split the total sum of squares equals into 2 terms:\n",
    "   1. explained sum of squares.\n",
    "   2. unexplained sum of squares.\n",
    "   and divisio of (1) by the total sum of squares is $R^2$- the explained variance to the total variance.\n",
    "<br>\n",
    "\n",
    "Fractons definition:\n",
    "\n",
    "prerequisites:\n",
    "1. linear regression model.\n",
    "2. compute variance of its errors.\n",
    "3. compute variance of the dependent variable.\n",
    "\n",
    "The relative amount by which the regression model's error($y-\\hat{y}$) variance is less than the variance of the dependent variable(y) is referred to as the fraction of the variance that was explained by the independent variables(variance in y explaine by variance in x).\n",
    "For example, if the error variance is 20% less than the original variance, we say we have \"explained 20% of the variance.\"\n",
    "\n",
    "if the model is **simple linear regression** then $r^2$(same r from the intro) is the fraction of the variance in Y that is explained by X, this is why it is called \"R-squared\""
   ]
  },
  {
   "cell_type": "markdown",
   "metadata": {},
   "source": [
    "# Resources:<br>\n",
    "[1] http://people.duke.edu/~rnau/regintro.htm<br>\n",
    "[2] https://en.wikipedia.org/wiki/Coefficient_of_determination<br>\n",
    "[3] https://en.wikipedia.org/wiki/Pearson_correlation_coefficient#For_a_sample<br>  "
   ]
  },
  {
   "cell_type": "code",
   "execution_count": null,
   "metadata": {},
   "outputs": [],
   "source": []
  }
 ],
 "metadata": {
  "kernelspec": {
   "display_name": "Python 3",
   "language": "python",
   "name": "python3"
  },
  "language_info": {
   "codemirror_mode": {
    "name": "ipython",
    "version": 3
   },
   "file_extension": ".py",
   "mimetype": "text/x-python",
   "name": "python",
   "nbconvert_exporter": "python",
   "pygments_lexer": "ipython3",
   "version": "3.7.9"
  }
 },
 "nbformat": 4,
 "nbformat_minor": 4
}
